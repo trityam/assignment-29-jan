{
 "cells": [
  {
   "cell_type": "code",
   "execution_count": null,
   "id": "2685666b-307b-43cd-9d09-844e9ad00cd3",
   "metadata": {},
   "outputs": [],
   "source": [
    "1=guido Van Rosum"
   ]
  },
  {
   "cell_type": "code",
   "execution_count": null,
   "id": "c4cd8110-c048-4a16-991e-dc670d29faa2",
   "metadata": {},
   "outputs": [],
   "source": [
    "2=Python is a multi-paradigm programming language. Object-oriented programming and structured programming are fully supported, and many of their features support functional programming and aspect-oriented programming (including metaprogramming and metaobjects)."
   ]
  },
  {
   "cell_type": "code",
   "execution_count": null,
   "id": "263d6d48-69f2-44bf-82a4-9230b3543925",
   "metadata": {},
   "outputs": [],
   "source": [
    "3= yes"
   ]
  },
  {
   "cell_type": "code",
   "execution_count": null,
   "id": "cf6c2be2-ae25-4046-aae9-0ba6110f4937",
   "metadata": {},
   "outputs": [],
   "source": [
    "4= .py,.pyi,.pyc,.pyd,.pyo,.pyw,.pyz"
   ]
  },
  {
   "cell_type": "code",
   "execution_count": null,
   "id": "e1ff9f13-06d0-437e-877a-ed81f0d16096",
   "metadata": {},
   "outputs": [],
   "source": [
    "5= python code is both compiled and interpreated. the compilation part is hidden from the programmer."
   ]
  },
  {
   "cell_type": "code",
   "execution_count": null,
   "id": "e5785b79-d8ec-4d73-a3f7-297b4c6af530",
   "metadata": {},
   "outputs": [],
   "source": [
    "6= following are blocks of code-a module, a fuction body and a class definition. indination is used to define a block in code."
   ]
  },
  {
   "cell_type": "code",
   "execution_count": null,
   "id": "d78970cd-ffde-4d6f-ae77-44676b27a243",
   "metadata": {},
   "outputs": [],
   "source": [
    "7= we can write a single line comment by adding a single # before any statement or a code."
   ]
  },
  {
   "cell_type": "code",
   "execution_count": null,
   "id": "a708e0ee-e637-4e28-8124-2126433e55c9",
   "metadata": {},
   "outputs": [],
   "source": [
    "8= python--version or python--v or python--vv"
   ]
  },
  {
   "cell_type": "code",
   "execution_count": null,
   "id": "f2dcf99a-a794-4be2-a791-c924dee24124",
   "metadata": {},
   "outputs": [],
   "source": [
    "9= lambda"
   ]
  },
  {
   "cell_type": "code",
   "execution_count": null,
   "id": "10809da3-ad74-4938-9f09-37d8256df027",
   "metadata": {},
   "outputs": [],
   "source": [
    "10= PIP is the package manager for python. In other words, it is a tool that allows us to install the python packages and dependencies"
   ]
  },
  {
   "cell_type": "code",
   "execution_count": null,
   "id": "5b3cea13-9182-4045-8654-f715a205cadb",
   "metadata": {},
   "outputs": [],
   "source": [
    "11= print(), type(), str(), dict(), int(), tuple(), set(), list(), input(), bool(), format(),complex() etc"
   ]
  },
  {
   "cell_type": "code",
   "execution_count": null,
   "id": "a7cd7fb9-88d1-4b70-80cc-62ef3875484e",
   "metadata": {},
   "outputs": [],
   "source": [
    "12= the maximum possible length of an identifire in python is 79"
   ]
  },
  {
   "cell_type": "code",
   "execution_count": null,
   "id": "fa86f6a1-f4ca-4b26-85dd-1ffecff3640c",
   "metadata": {},
   "outputs": [],
   "source": [
    "13= Simple to Use and Understand. For newcomers, Python is simple to understand and use. ...\n",
    "Free and Open-Source. Video Player is loading. ...\n",
    "Productivity has Increased. ...\n",
    "Interpreted Language. ...\n",
    "Extensive library. ...\n",
    "Dynamically Typed. ...\n",
    "Portability. ...\n",
    "Supportive community."
   ]
  },
  {
   "cell_type": "code",
   "execution_count": null,
   "id": "f3012c96-48ac-403a-966f-8fc1b51007a1",
   "metadata": {},
   "outputs": [],
   "source": [
    "14= static memory and dynamic memory"
   ]
  },
  {
   "cell_type": "code",
   "execution_count": null,
   "id": "a5780250-6deb-4d40-8e89-67020363b5fe",
   "metadata": {},
   "outputs": [],
   "source": [
    "15= www.python.org - click on downloading tab and select winodows option - after download complete, open it to install python - click on run = continue with install now and alse select a checkbox at the bottom to add python 3.7 to path - installation is complete. "
   ]
  },
  {
   "cell_type": "code",
   "execution_count": null,
   "id": "69753cb7-1b4d-4eb9-a391-3e8797275c26",
   "metadata": {},
   "outputs": [],
   "source": [
    "16 = in python indination is very important.python uses indiation to indicate a block of code."
   ]
  }
 ],
 "metadata": {
  "kernelspec": {
   "display_name": "Python 3 (ipykernel)",
   "language": "python",
   "name": "python3"
  },
  "language_info": {
   "codemirror_mode": {
    "name": "ipython",
    "version": 3
   },
   "file_extension": ".py",
   "mimetype": "text/x-python",
   "name": "python",
   "nbconvert_exporter": "python",
   "pygments_lexer": "ipython3",
   "version": "3.10.8"
  }
 },
 "nbformat": 4,
 "nbformat_minor": 5
}
